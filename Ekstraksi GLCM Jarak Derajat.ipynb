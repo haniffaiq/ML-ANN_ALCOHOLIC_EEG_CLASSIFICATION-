{
 "cells": [
  {
   "cell_type": "code",
   "execution_count": 1,
   "id": "9728b3e9-e460-414d-9ffa-dfbd8a13f66d",
   "metadata": {
    "tags": []
   },
   "outputs": [
    {
     "name": "stderr",
     "output_type": "stream",
     "text": [
      "Extracting GLCM Features: 100%|█████████████████████████████████████████████████████████████████████████████████████████████████████████████████████████████████████████████████████████████| 1201/1201 [01:36<00:00, 12.47it/s]"
     ]
    },
    {
     "name": "stdout",
     "output_type": "stream",
     "text": [
      "      contrast_1_0  dissimilarity_1_0  homogeneity_1_0  energy_1_0   \n",
      "0       135.534069         347.452848       336.650794  342.823654  \\\n",
      "1        46.697733         230.791161       231.684276  233.462932   \n",
      "2        37.134191         152.484781       150.010789  151.258077   \n",
      "3        45.891728         259.912045       255.878348  252.501027   \n",
      "4        55.980147         622.607719       612.113963  621.267102   \n",
      "...            ...                ...              ...         ...   \n",
      "1195     10.145221         134.304637       137.359747  133.899409   \n",
      "1196     29.421324         891.732026       881.433594  892.950016   \n",
      "1197     28.146446         480.889760       470.667101  478.621600   \n",
      "1198     34.909865         666.328354       658.898375  665.175412   \n",
      "1199     23.022794         658.007719       651.891927  659.420666   \n",
      "\n",
      "      correlation_1_0  contrast_1_45  dissimilarity_1_45  homogeneity_1_45   \n",
      "0          231.384843     347.452848          368.858493        342.823654  \\\n",
      "1           69.797429     230.791161          266.135144        233.462932   \n",
      "2           64.634473     152.484781          179.078692        151.258077   \n",
      "3           56.984990     259.912045          271.236706        252.501027   \n",
      "4          133.505290     622.607719          670.751764        621.267102   \n",
      "...               ...            ...                 ...               ...   \n",
      "1195        19.547244     134.304637          171.158266        133.899409   \n",
      "1196        87.252645     891.732026          697.127079        892.950016   \n",
      "1197        82.910556     480.889760          587.280998        478.621600   \n",
      "1198        94.833969     666.328354          944.706905        665.175412   \n",
      "1199        56.631459     658.007719          861.903352        659.420666   \n",
      "\n",
      "      energy_1_45  correlation_1_45  ...  contrast_5_90  dissimilarity_5_90   \n",
      "0      329.118268        399.156591  ...       0.171834            0.196124  \\\n",
      "1       93.504755        270.521527  ...       0.184086            0.190495   \n",
      "2       82.787426        183.342774  ...       0.195900            0.177059   \n",
      "3       70.176013        271.714440  ...       0.019873            0.016211   \n",
      "4      214.388710        699.107887  ...       0.150871            0.203823   \n",
      "...           ...               ...  ...            ...                 ...   \n",
      "1195    27.681139        162.863411  ...       0.337381            0.304498   \n",
      "1196   149.132411        728.272035  ...       0.178238            0.415277   \n",
      "1197   140.925333        621.985712  ...       0.453646            0.433315   \n",
      "1198   157.732522        973.435801  ...       0.294659            0.252490   \n",
      "1199    97.780447        886.802007  ...       0.411152            0.398718   \n",
      "\n",
      "      homogeneity_5_90  energy_5_90  correlation_5_90  contrast_5_135   \n",
      "0             0.279395     0.121411          0.188190        0.133670  \\\n",
      "1             0.723166     0.180171          0.202223        0.185687   \n",
      "2             0.612997     0.170210          0.205342        0.172674   \n",
      "3             0.736285     0.016387          0.115694        0.016189   \n",
      "4             0.697952     0.112368          0.290822        0.095728   \n",
      "...                ...          ...               ...             ...   \n",
      "1195          0.868243     0.345202          0.328073        0.332481   \n",
      "1196          0.836570     0.139030          0.558714        0.140496   \n",
      "1197          0.827536     0.408628          0.554196        0.421244   \n",
      "1198          0.841680     0.253034          0.420726        0.261947   \n",
      "1199          0.910326     0.385190          0.540899        0.385665   \n",
      "\n",
      "      dissimilarity_5_135  homogeneity_5_135  energy_5_135  correlation_5_135  \n",
      "0                0.347513           0.083673      0.123202           0.074830  \n",
      "1                0.712848           0.186052      0.192040           0.184199  \n",
      "2                0.624789           0.146243      0.156961           0.158119  \n",
      "3                0.728551           0.108133      0.046049           0.107151  \n",
      "4                0.662637           0.215333      0.224045           0.208837  \n",
      "...                   ...                ...           ...                ...  \n",
      "1195             0.842754           0.327936      0.339805           0.310962  \n",
      "1196             0.801499           0.488165      0.207440           0.487650  \n",
      "1197             0.788892           0.469433      0.512598           0.482418  \n",
      "1198             0.807769           0.347913      0.398389           0.355412  \n",
      "1199             0.890282           0.493373      0.486622           0.493652  \n",
      "\n",
      "[1200 rows x 100 columns]\n"
     ]
    },
    {
     "name": "stderr",
     "output_type": "stream",
     "text": [
      "\n"
     ]
    }
   ],
   "source": [
    "import cv2\n",
    "import numpy as np\n",
    "import pandas as pd\n",
    "import os\n",
    "from skimage.feature import graycomatrix, graycoprops\n",
    "from tqdm import tqdm\n",
    "\n",
    "def extract_glcm_features(image, distances, angles):\n",
    "    if image is None:\n",
    "        return None\n",
    "\n",
    "    # Mengonversi citra menjadi tipe data 8-bit unsigned integer\n",
    "    image = np.uint8(image)\n",
    "\n",
    "    # Membuat matriks GLCM\n",
    "    glcm = graycomatrix(image, distances, angles, levels=256, symmetric=True, normed=True)\n",
    "\n",
    "    # Menghitung fitur GLCM\n",
    "    contrast = graycoprops(glcm, 'contrast')\n",
    "    dissimilarity = graycoprops(glcm, 'dissimilarity')\n",
    "    homogeneity = graycoprops(glcm, 'homogeneity')\n",
    "    energy = graycoprops(glcm, 'energy')\n",
    "    correlation = graycoprops(glcm, 'correlation')\n",
    "\n",
    "    # Menggabungkan semua fitur menjadi satu vektor fitur\n",
    "    features = np.concatenate([contrast.ravel(), dissimilarity.ravel(), homogeneity.ravel(),\n",
    "                               energy.ravel(), correlation.ravel()])\n",
    "\n",
    "    return features\n",
    "\n",
    "# Path ke folder citra \"Data Normal\"\n",
    "folder_path = 'Data_Enhance'\n",
    "\n",
    "# Parameter GLCM (jarak dan sudut)\n",
    "distances = [1, 2, 3, 4, 5]\n",
    "angles = [0, np.pi/4, np.pi/2, 3*np.pi/4]\n",
    "\n",
    "# List untuk menyimpan vektor fitur GLCM\n",
    "glcm_features_list = []\n",
    "\n",
    "# Loop melalui semua citra dalam folder dengan tqdm\n",
    "for filename in tqdm(os.listdir(folder_path), desc='Extracting GLCM Features'):\n",
    "    # Mengimpor citra grayscale\n",
    "    image_path = os.path.join(folder_path, filename)\n",
    "    image = cv2.imread(image_path, cv2.IMREAD_GRAYSCALE)\n",
    "\n",
    "    # Mengekstraksi fitur GLCM dari citra\n",
    "    glcm_features = extract_glcm_features(image, distances, angles)\n",
    "\n",
    "    # Menambahkan vektor fitur GLCM ke list\n",
    "    if glcm_features is not None:\n",
    "        glcm_features_list.append(glcm_features)\n",
    "\n",
    "# Membuat DataFrame dari vektor fitur GLCM\n",
    "column_names = []\n",
    "for distance in distances:\n",
    "    for angle in angles:\n",
    "        column_names.append(f'contrast_{distance}_{int(np.degrees(angle))}')\n",
    "        column_names.append(f'dissimilarity_{distance}_{int(np.degrees(angle))}')\n",
    "        column_names.append(f'homogeneity_{distance}_{int(np.degrees(angle))}')\n",
    "        column_names.append(f'energy_{distance}_{int(np.degrees(angle))}')\n",
    "        column_names.append(f'correlation_{distance}_{int(np.degrees(angle))}')\n",
    "\n",
    "df = pd.DataFrame(glcm_features_list, columns=column_names)\n",
    "\n",
    "# Mengganti nilai NaN dengan 0\n",
    "df = df.fillna(0)\n",
    "\n",
    "# Menampilkan DataFrame\n",
    "print(df)\n"
   ]
  },
  {
   "cell_type": "code",
   "execution_count": 2,
   "id": "0e22e326-1f7a-48a1-910d-d7c922ba35a1",
   "metadata": {
    "tags": []
   },
   "outputs": [
    {
     "name": "stdout",
     "output_type": "stream",
     "text": [
      "Index(['contrast_1_0', 'dissimilarity_1_0', 'homogeneity_1_0', 'energy_1_0',\n",
      "       'correlation_1_0', 'contrast_1_45', 'dissimilarity_1_45',\n",
      "       'homogeneity_1_45', 'energy_1_45', 'correlation_1_45', 'contrast_1_90',\n",
      "       'dissimilarity_1_90', 'homogeneity_1_90', 'energy_1_90',\n",
      "       'correlation_1_90', 'contrast_1_135', 'dissimilarity_1_135',\n",
      "       'homogeneity_1_135', 'energy_1_135', 'correlation_1_135',\n",
      "       'contrast_2_0', 'dissimilarity_2_0', 'homogeneity_2_0', 'energy_2_0',\n",
      "       'correlation_2_0', 'contrast_2_45', 'dissimilarity_2_45',\n",
      "       'homogeneity_2_45', 'energy_2_45', 'correlation_2_45', 'contrast_2_90',\n",
      "       'dissimilarity_2_90', 'homogeneity_2_90', 'energy_2_90',\n",
      "       'correlation_2_90', 'contrast_2_135', 'dissimilarity_2_135',\n",
      "       'homogeneity_2_135', 'energy_2_135', 'correlation_2_135',\n",
      "       'contrast_3_0', 'dissimilarity_3_0', 'homogeneity_3_0', 'energy_3_0',\n",
      "       'correlation_3_0', 'contrast_3_45', 'dissimilarity_3_45',\n",
      "       'homogeneity_3_45', 'energy_3_45', 'correlation_3_45', 'contrast_3_90',\n",
      "       'dissimilarity_3_90', 'homogeneity_3_90', 'energy_3_90',\n",
      "       'correlation_3_90', 'contrast_3_135', 'dissimilarity_3_135',\n",
      "       'homogeneity_3_135', 'energy_3_135', 'correlation_3_135',\n",
      "       'contrast_4_0', 'dissimilarity_4_0', 'homogeneity_4_0', 'energy_4_0',\n",
      "       'correlation_4_0', 'contrast_4_45', 'dissimilarity_4_45',\n",
      "       'homogeneity_4_45', 'energy_4_45', 'correlation_4_45', 'contrast_4_90',\n",
      "       'dissimilarity_4_90', 'homogeneity_4_90', 'energy_4_90',\n",
      "       'correlation_4_90', 'contrast_4_135', 'dissimilarity_4_135',\n",
      "       'homogeneity_4_135', 'energy_4_135', 'correlation_4_135',\n",
      "       'contrast_5_0', 'dissimilarity_5_0', 'homogeneity_5_0', 'energy_5_0',\n",
      "       'correlation_5_0', 'contrast_5_45', 'dissimilarity_5_45',\n",
      "       'homogeneity_5_45', 'energy_5_45', 'correlation_5_45', 'contrast_5_90',\n",
      "       'dissimilarity_5_90', 'homogeneity_5_90', 'energy_5_90',\n",
      "       'correlation_5_90', 'contrast_5_135', 'dissimilarity_5_135',\n",
      "       'homogeneity_5_135', 'energy_5_135', 'correlation_5_135'],\n",
      "      dtype='object')\n"
     ]
    }
   ],
   "source": [
    "print(df.columns)\n"
   ]
  },
  {
   "cell_type": "code",
   "execution_count": 3,
   "id": "abc821eb-b494-41ba-aab7-1d217c69cf03",
   "metadata": {
    "tags": []
   },
   "outputs": [],
   "source": [
    "df.to_csv(f'glcm_features_{folder_path}.csv', index=False)"
   ]
  },
  {
   "cell_type": "code",
   "execution_count": null,
   "id": "e33122d5-845e-4235-87dc-c97103ac983b",
   "metadata": {},
   "outputs": [],
   "source": []
  }
 ],
 "metadata": {
  "kernelspec": {
   "display_name": "Python 3 (ipykernel)",
   "language": "python",
   "name": "python3"
  },
  "language_info": {
   "codemirror_mode": {
    "name": "ipython",
    "version": 3
   },
   "file_extension": ".py",
   "mimetype": "text/x-python",
   "name": "python",
   "nbconvert_exporter": "python",
   "pygments_lexer": "ipython3",
   "version": "3.9.7"
  }
 },
 "nbformat": 4,
 "nbformat_minor": 5
}
