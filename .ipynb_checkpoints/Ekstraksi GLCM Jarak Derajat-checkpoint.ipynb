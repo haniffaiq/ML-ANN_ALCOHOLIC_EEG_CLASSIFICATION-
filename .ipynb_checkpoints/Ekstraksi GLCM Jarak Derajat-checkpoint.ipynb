{
 "cells": [
  {
   "cell_type": "code",
   "execution_count": null,
   "id": "9728b3e9-e460-414d-9ffa-dfbd8a13f66d",
   "metadata": {
    "tags": []
   },
   "outputs": [],
   "source": [
    "import cv2\n",
    "import numpy as np\n",
    "import pandas as pd\n",
    "import os\n",
    "from skimage.feature import graycomatrix, graycoprops\n",
    "from tqdm import tqdm\n",
    "\n",
    "def extract_glcm_features(image, distances, angles):\n",
    "    if image is None:\n",
    "        return None\n",
    "\n",
    "    # Mengonversi citra menjadi tipe data 8-bit unsigned integer\n",
    "    image = np.uint8(image)\n",
    "\n",
    "    # Membuat matriks GLCM\n",
    "    glcm = graycomatrix(image, distances, angles, levels=256, symmetric=True, normed=True)\n",
    "\n",
    "    # Menghitung fitur GLCM\n",
    "    contrast = graycoprops(glcm, 'contrast')\n",
    "    dissimilarity = graycoprops(glcm, 'dissimilarity')\n",
    "    homogeneity = graycoprops(glcm, 'homogeneity')\n",
    "    energy = graycoprops(glcm, 'energy')\n",
    "    correlation = graycoprops(glcm, 'correlation')\n",
    "\n",
    "    # Menggabungkan semua fitur menjadi satu vektor fitur\n",
    "    features = np.concatenate([contrast.ravel(), dissimilarity.ravel(), homogeneity.ravel(),\n",
    "                               energy.ravel(), correlation.ravel()])\n",
    "\n",
    "    return features\n",
    "\n",
    "# Path ke folder citra \"Data Normal\"\n",
    "folder_path = 'Data_Enhance'\n",
    "\n",
    "# Parameter GLCM (jarak dan sudut)\n",
    "distances = [1, 2, 3, 4, 5]\n",
    "angles = [0, np.pi/4, np.pi/2, 3*np.pi/4]\n",
    "\n",
    "# List untuk menyimpan vektor fitur GLCM\n",
    "glcm_features_list = []\n",
    "\n",
    "# Loop melalui semua citra dalam folder dengan tqdm\n",
    "for filename in tqdm(os.listdir(folder_path), desc='Extracting GLCM Features'):\n",
    "    # Mengimpor citra grayscale\n",
    "    image_path = os.path.join(folder_path, filename)\n",
    "    image = cv2.imread(image_path, cv2.IMREAD_GRAYSCALE)\n",
    "\n",
    "    # Mengekstraksi fitur GLCM dari citra\n",
    "    glcm_features = extract_glcm_features(image, distances, angles)\n",
    "\n",
    "    # Menambahkan vektor fitur GLCM ke list\n",
    "    if glcm_features is not None:\n",
    "        glcm_features_list.append(glcm_features)\n",
    "\n",
    "# Membuat DataFrame dari vektor fitur GLCM\n",
    "column_names = []\n",
    "for distance in distances:\n",
    "    for angle in angles:\n",
    "        column_names.append(f'contrast_{distance}_{int(np.degrees(angle))}')\n",
    "        column_names.append(f'dissimilarity_{distance}_{int(np.degrees(angle))}')\n",
    "        column_names.append(f'homogeneity_{distance}_{int(np.degrees(angle))}')\n",
    "        column_names.append(f'energy_{distance}_{int(np.degrees(angle))}')\n",
    "        column_names.append(f'correlation_{distance}_{int(np.degrees(angle))}')\n",
    "\n",
    "df = pd.DataFrame(glcm_features_list, columns=column_names)\n",
    "\n",
    "# Mengganti nilai NaN dengan 0\n",
    "df = df.fillna(0)\n",
    "\n",
    "# Menampilkan DataFrame\n",
    "print(df)\n"
   ]
  },
  {
   "cell_type": "code",
   "execution_count": null,
   "id": "0e22e326-1f7a-48a1-910d-d7c922ba35a1",
   "metadata": {
    "tags": []
   },
   "outputs": [],
   "source": [
    "print(df.columns)\n"
   ]
  },
  {
   "cell_type": "code",
   "execution_count": null,
   "id": "abc821eb-b494-41ba-aab7-1d217c69cf03",
   "metadata": {
    "tags": []
   },
   "outputs": [],
   "source": [
    "df.to_csv(f'glcm_features_{folder_path}.csv', index=False)"
   ]
  },
  {
   "cell_type": "code",
   "execution_count": null,
   "id": "e33122d5-845e-4235-87dc-c97103ac983b",
   "metadata": {},
   "outputs": [],
   "source": []
  }
 ],
 "metadata": {
  "kernelspec": {
   "display_name": "Python 3 (ipykernel)",
   "language": "python",
   "name": "python3"
  },
  "language_info": {
   "codemirror_mode": {
    "name": "ipython",
    "version": 3
   },
   "file_extension": ".py",
   "mimetype": "text/x-python",
   "name": "python",
   "nbconvert_exporter": "python",
   "pygments_lexer": "ipython3",
   "version": "3.9.7"
  }
 },
 "nbformat": 4,
 "nbformat_minor": 5
}
