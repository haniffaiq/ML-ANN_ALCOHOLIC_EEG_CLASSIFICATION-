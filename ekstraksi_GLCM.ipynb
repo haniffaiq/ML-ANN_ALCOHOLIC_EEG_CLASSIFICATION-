{
 "cells": [
  {
   "cell_type": "code",
   "execution_count": 1,
   "id": "b51a0dd4-48c9-4e56-aead-8c29b2f68a08",
   "metadata": {
    "tags": []
   },
   "outputs": [
    {
     "name": "stderr",
     "output_type": "stream",
     "text": [
      "Ekstraksi Gambar: 100%|████████████████████████████████████████████████████████████████████████████████████████████████████████████████████████████████████████████████| 1201/1201 [00:24<00:00, 48.08it/s]"
     ]
    },
    {
     "name": "stdout",
     "output_type": "stream",
     "text": [
      "      contrast_0  contrast_45  contrast_90  contrast_135  homogeneity_0   \n",
      "0     135.534069   347.452848   336.650794    135.534069       0.238120  \\\n",
      "1      46.697733   230.791161   231.684276     46.697733       0.433912   \n",
      "2      37.134191   152.484781   150.010789     37.134191       0.384247   \n",
      "3      45.891728   259.912045   255.878348     45.891728       0.600757   \n",
      "4      55.980147   622.607719   612.113963     55.980147       0.308909   \n",
      "...          ...          ...          ...           ...            ...   \n",
      "1195   10.145221   134.304637   137.359747     10.145221       0.651540   \n",
      "1196   29.421324   891.732026   881.433594     29.421324       0.359017   \n",
      "1197   28.146446   480.889760   470.667101     28.146446       0.364593   \n",
      "1198   34.909865   666.328354   658.898375     34.909865       0.358083   \n",
      "1199   23.022794   658.007719   651.891927     23.022794       0.386235   \n",
      "\n",
      "      homogeneity_45  homogeneity_90  homogeneity_135  energy_0  energy_45   \n",
      "0           0.108318        0.117553         0.238120  0.073280   0.051660  \\\n",
      "1           0.211739        0.213912         0.433912  0.094147   0.062717   \n",
      "2           0.174138        0.175451         0.384247  0.074307   0.049695   \n",
      "3           0.188657        0.189177         0.600757  0.133443   0.067729   \n",
      "4           0.092205        0.095290         0.308909  0.089870   0.050308   \n",
      "...              ...             ...              ...       ...        ...   \n",
      "1195        0.208087        0.209680         0.651540  0.125696   0.057399   \n",
      "1196        0.061327        0.061773         0.359017  0.083843   0.036621   \n",
      "1197        0.092873        0.093478         0.364593  0.085167   0.041027   \n",
      "1198        0.077722        0.081232         0.358083  0.082383   0.036913   \n",
      "1199        0.076807        0.081324         0.386235  0.080647   0.034405   \n",
      "\n",
      "      energy_90  energy_135  entropy_0  entropy_45  entropy_90  entropy_135   \n",
      "0      0.052523    0.073280   8.667257    9.434860    9.403130     8.667257  \\\n",
      "1      0.063264    0.094147   8.287980    9.344816    9.334901     8.287980   \n",
      "2      0.050027    0.074307   8.529134    9.552197    9.538290     8.529134   \n",
      "3      0.068030    0.133443   7.060375    8.940122    8.933591     7.060375   \n",
      "4      0.050802    0.089870   7.837321    9.395551    9.379624     7.837321   \n",
      "...         ...         ...        ...         ...         ...          ...   \n",
      "1195   0.057703    0.125696   7.107053    9.278594    9.275961     7.107053   \n",
      "1196   0.036839    0.083843   7.734717   10.045612   10.035231     7.734717   \n",
      "1197   0.041456    0.085167   7.760097    9.776475    9.755154     7.760097   \n",
      "1198   0.037166    0.082383   7.800019   10.033572   10.019849     7.800019   \n",
      "1199   0.034655    0.080647   7.832560   10.226561   10.214665     7.832560   \n",
      "\n",
      "                   filename  \n",
      "0           Alcoholic_0.png  \n",
      "1           Alcoholic_1.png  \n",
      "2          Alcoholic_10.png  \n",
      "3         Alcoholic_100.png  \n",
      "4         Alcoholic_101.png  \n",
      "...                     ...  \n",
      "1195  Non_Alcoholic_995.png  \n",
      "1196  Non_Alcoholic_996.png  \n",
      "1197  Non_Alcoholic_997.png  \n",
      "1198  Non_Alcoholic_998.png  \n",
      "1199  Non_Alcoholic_999.png  \n",
      "\n",
      "[1200 rows x 17 columns]\n"
     ]
    },
    {
     "name": "stderr",
     "output_type": "stream",
     "text": [
      "\n"
     ]
    }
   ],
   "source": [
    "import os\n",
    "import cv2\n",
    "from skimage.feature import graycomatrix, graycoprops\n",
    "import pandas as pd\n",
    "import numpy as np\n",
    "from tqdm import tqdm\n",
    "from sklearn.preprocessing import StandardScaler\n",
    "\n",
    "# Mendefinisikan folder input\n",
    "input_folder = 'Data_Enhance'\n",
    "\n",
    "# Mendefinisikan daftar parameter GLCM\n",
    "glcm_parameters = ['contrast', 'homogeneity', 'energy', 'entropy']\n",
    "directions = [0, 45, 90, 135]\n",
    "\n",
    "# Membuat list untuk menyimpan data ekstraksi\n",
    "data = []\n",
    "\n",
    "# Melakukan iterasi pada setiap file dalam folder input\n",
    "for filename in tqdm(os.listdir(input_folder), desc=\"Ekstraksi Gambar\"):\n",
    "    # Mengecek apakah file adalah file gambar\n",
    "    if filename.endswith('.jpg') or filename.endswith('.png'):\n",
    "        # Membaca gambar menggunakan OpenCV\n",
    "        image_path = os.path.join(input_folder, filename)\n",
    "        image = cv2.imread(image_path, 0)  # Membaca gambar dalam mode grayscale\n",
    "        \n",
    "        # Menghitung matriks GLCM dengan arah 0, 45, 90, 135 derajat\n",
    "        glcm = graycomatrix(image, distances=[1], angles=directions, levels=256,\n",
    "                            symmetric=True, normed=True)\n",
    "        \n",
    "        # Menghitung nilai parameter GLCM\n",
    "        glcm_features = []\n",
    "        for prop in glcm_parameters:\n",
    "            if prop == 'entropy':\n",
    "                entropy_values = -np.sum(glcm * np.log2(glcm + 1e-10), axis=(0, 1)).ravel()\n",
    "                glcm_features.extend(entropy_values)\n",
    "            else:\n",
    "                prop_values = graycoprops(glcm, prop).ravel()\n",
    "                glcm_features.extend(prop_values)\n",
    "        \n",
    "        # Menyimpan data ekstraksi dalam list\n",
    "        data.append(glcm_features + [filename])\n",
    "\n",
    "# Membuat dataframe dari data ekstraksi\n",
    "columns = [f'{param}_{dir}' for param in glcm_parameters for dir in directions] + ['filename']\n",
    "df = pd.DataFrame(data, columns=columns)\n",
    "\n",
    "# Menampilkan dataframe\n",
    "print(df)\n",
    "# Create DataFrame from the collected data\n"
   ]
  },
  {
   "cell_type": "code",
   "execution_count": 5,
   "id": "2cbff224-e43d-4f3e-b7c5-eb114aa7c32d",
   "metadata": {},
   "outputs": [
    {
     "name": "stdout",
     "output_type": "stream",
     "text": [
      "      contrast_0  contrast_45  contrast_90  contrast_135  homogeneity_0   \n",
      "0       1.122507    -0.381743    -0.398937      1.122507      -1.654168  \\\n",
      "1       0.063639    -0.834350    -0.810746      0.063639       0.697962   \n",
      "2      -0.050351    -1.138151    -1.131171     -0.050351       0.101315   \n",
      "3       0.054032    -0.721371    -0.715827      0.054032       2.702349   \n",
      "4       0.174279     0.685763     0.681771      0.174279      -0.803746   \n",
      "...          ...          ...          ...           ...            ...   \n",
      "1195   -0.372041    -1.208684    -1.180804     -0.372041       3.312433   \n",
      "1196   -0.142283     1.729872     1.738376     -0.142283      -0.201781   \n",
      "1197   -0.157479     0.135946     0.126841     -0.157479      -0.134792   \n",
      "1198   -0.076864     0.855384     0.865317     -0.076864      -0.213005   \n",
      "1199   -0.218550     0.823102     0.837829     -0.218550       0.125197   \n",
      "\n",
      "      homogeneity_45  homogeneity_90  homogeneity_135  energy_0  energy_45   \n",
      "0           0.010091        0.171695        -1.654168 -1.094713   0.019034  \\\n",
      "1           2.664197        2.596302         0.697962 -0.103726   0.925721   \n",
      "2           1.699230        1.628545         0.101315 -1.045920  -0.142086   \n",
      "3           2.071840        1.973923         2.702349  1.762475   1.336685   \n",
      "4          -0.403420       -0.388499        -0.803746 -0.306848  -0.091789   \n",
      "...              ...             ...              ...       ...        ...   \n",
      "1195        2.570478        2.489812         3.312433  1.394531   0.489610   \n",
      "1196       -1.195854       -1.231856        -0.201781 -0.593060  -1.214117   \n",
      "1197       -0.386283       -0.434086        -0.134792 -0.530189  -0.852865   \n",
      "1198       -0.775109       -0.742217        -0.213005 -0.662401  -1.190176   \n",
      "1199       -0.798579       -0.739907         0.125197 -0.744857  -1.395822   \n",
      "\n",
      "      energy_90  energy_135  entropy_0  entropy_45  entropy_90  entropy_135   \n",
      "0      0.060214   -1.094713   1.884809    0.120510    0.090216     1.884809  \\\n",
      "1      0.936241   -0.103726   1.206911   -0.030450   -0.024234     1.206911   \n",
      "2     -0.143345   -1.045920   1.637935    0.317227    0.316940     1.637935   \n",
      "3      1.324957    1.762475  -0.987246   -0.708924   -0.697412    -0.987246   \n",
      "4     -0.080078   -0.306848   0.401427    0.054608    0.050785     0.401427   \n",
      "...         ...         ...        ...         ...         ...          ...   \n",
      "1195   0.482739    1.394531  -0.903816   -0.141473   -0.123103    -0.903816   \n",
      "1196  -1.218883   -0.593060   0.218037    1.144442    1.150534     0.218037   \n",
      "1197  -0.842333   -0.530189   0.263401    0.693230    0.680720     0.263401   \n",
      "1198  -1.192173   -0.662401   0.334755    1.124257    1.124732     0.334755   \n",
      "1199  -1.396960   -0.744857   0.392917    1.447805    1.451527     0.392917   \n",
      "\n",
      "                   filename  \n",
      "0           Alcoholic_0.png  \n",
      "1           Alcoholic_1.png  \n",
      "2          Alcoholic_10.png  \n",
      "3         Alcoholic_100.png  \n",
      "4         Alcoholic_101.png  \n",
      "...                     ...  \n",
      "1195  Non_Alcoholic_995.png  \n",
      "1196  Non_Alcoholic_996.png  \n",
      "1197  Non_Alcoholic_997.png  \n",
      "1198  Non_Alcoholic_998.png  \n",
      "1199  Non_Alcoholic_999.png  \n",
      "\n",
      "[1200 rows x 17 columns]\n"
     ]
    }
   ],
   "source": [
    "scaler = StandardScaler()\n",
    "numeric_columns = df.columns[:-1]\n",
    "df[numeric_columns] = scaler.fit_transform(df[numeric_columns])\n",
    "\n",
    "print(df)"
   ]
  },
  {
   "cell_type": "code",
   "execution_count": 6,
   "id": "5596a747-bf75-4598-9356-c43bfd36307b",
   "metadata": {
    "tags": []
   },
   "outputs": [],
   "source": [
    "df.to_csv(f'glcm_features_{input_folder}.csv', index=False)"
   ]
  },
  {
   "cell_type": "code",
   "execution_count": 7,
   "id": "08af874c-e2cb-439b-878a-3ca3790dd5b3",
   "metadata": {},
   "outputs": [
    {
     "name": "stdout",
     "output_type": "stream",
     "text": [
      "Index(['contrast_0', 'contrast_45', 'contrast_90', 'contrast_135',\n",
      "       'homogeneity_0', 'homogeneity_45', 'homogeneity_90', 'homogeneity_135',\n",
      "       'energy_0', 'energy_45', 'energy_90', 'energy_135', 'entropy_0',\n",
      "       'entropy_45', 'entropy_90', 'entropy_135', 'filename'],\n",
      "      dtype='object')\n"
     ]
    }
   ],
   "source": [
    "print(df.columns)"
   ]
  },
  {
   "cell_type": "code",
   "execution_count": null,
   "id": "c6c95f5a-7354-4daa-8ce3-eb85469b7ca7",
   "metadata": {},
   "outputs": [],
   "source": []
  }
 ],
 "metadata": {
  "kernelspec": {
   "display_name": "Python 3 (ipykernel)",
   "language": "python",
   "name": "python3"
  },
  "language_info": {
   "codemirror_mode": {
    "name": "ipython",
    "version": 3
   },
   "file_extension": ".py",
   "mimetype": "text/x-python",
   "name": "python",
   "nbconvert_exporter": "python",
   "pygments_lexer": "ipython3",
   "version": "3.9.7"
  }
 },
 "nbformat": 4,
 "nbformat_minor": 5
}
